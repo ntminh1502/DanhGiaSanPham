{
  "nbformat": 4,
  "nbformat_minor": 0,
  "metadata": {
    "colab": {
      "name": "NCKH.ipynb",
      "provenance": []
    },
    "kernelspec": {
      "display_name": "Python 3",
      "name": "python3"
    },
    "language_info": {
      "name": "python"
    }
  },
  "cells": [
    {
      "cell_type": "code",
      "metadata": {
        "id": "dkLIyqlDr4tP"
      },
      "source": [
        "import pandas as pd\n",
        "import sklearn\n",
        "import pyvi\n",
        "import re\n",
        "from pyvi import ViTokenizer"
      ],
      "execution_count": null,
      "outputs": []
    },
    {
      "cell_type": "code",
      "metadata": {
        "colab": {
          "base_uri": "https://localhost:8080/"
        },
        "id": "c0kqUkujsUhU",
        "outputId": "34255209-6eeb-4bec-91d6-cd8f4dfb0eb9"
      },
      "source": [
        "!pip install pyvi"
      ],
      "execution_count": null,
      "outputs": [
        {
          "output_type": "stream",
          "text": [
            "Collecting pyvi\n",
            "\u001b[?25l  Downloading https://files.pythonhosted.org/packages/10/e1/0e5bc6b5e3327b9385d6e0f1b0a7c0404f28b74eb6db59a778515b30fd9c/pyvi-0.1-py2.py3-none-any.whl (8.5MB)\n",
            "\u001b[K     |████████████████████████████████| 8.5MB 6.3MB/s \n",
            "\u001b[?25hRequirement already satisfied: scikit-learn in /usr/local/lib/python3.7/dist-packages (from pyvi) (0.22.2.post1)\n",
            "Collecting sklearn-crfsuite\n",
            "  Downloading https://files.pythonhosted.org/packages/25/74/5b7befa513482e6dee1f3dd68171a6c9dfc14c0eaa00f885ffeba54fe9b0/sklearn_crfsuite-0.3.6-py2.py3-none-any.whl\n",
            "Requirement already satisfied: numpy>=1.11.0 in /usr/local/lib/python3.7/dist-packages (from scikit-learn->pyvi) (1.19.5)\n",
            "Requirement already satisfied: joblib>=0.11 in /usr/local/lib/python3.7/dist-packages (from scikit-learn->pyvi) (1.0.1)\n",
            "Requirement already satisfied: scipy>=0.17.0 in /usr/local/lib/python3.7/dist-packages (from scikit-learn->pyvi) (1.4.1)\n",
            "Collecting python-crfsuite>=0.8.3\n",
            "\u001b[?25l  Downloading https://files.pythonhosted.org/packages/79/47/58f16c46506139f17de4630dbcfb877ce41a6355a1bbf3c443edb9708429/python_crfsuite-0.9.7-cp37-cp37m-manylinux1_x86_64.whl (743kB)\n",
            "\u001b[K     |████████████████████████████████| 747kB 40.0MB/s \n",
            "\u001b[?25hRequirement already satisfied: tabulate in /usr/local/lib/python3.7/dist-packages (from sklearn-crfsuite->pyvi) (0.8.9)\n",
            "Requirement already satisfied: six in /usr/local/lib/python3.7/dist-packages (from sklearn-crfsuite->pyvi) (1.15.0)\n",
            "Requirement already satisfied: tqdm>=2.0 in /usr/local/lib/python3.7/dist-packages (from sklearn-crfsuite->pyvi) (4.41.1)\n",
            "Installing collected packages: python-crfsuite, sklearn-crfsuite, pyvi\n",
            "Successfully installed python-crfsuite-0.9.7 pyvi-0.1 sklearn-crfsuite-0.3.6\n"
          ],
          "name": "stdout"
        }
      ]
    },
    {
      "cell_type": "code",
      "metadata": {
        "colab": {
          "base_uri": "https://localhost:8080/"
        },
        "id": "msWfGm5NsZbW",
        "outputId": "ce311df1-fc6d-472a-c06c-0b84a869a583"
      },
      "source": [
        "from google.colab import drive\n",
        "drive.mount(\"mn_drive\",force_remount= True)\n"
      ],
      "execution_count": null,
      "outputs": [
        {
          "output_type": "stream",
          "text": [
            "Mounted at mn_drive\n"
          ],
          "name": "stdout"
        }
      ]
    },
    {
      "cell_type": "code",
      "metadata": {
        "id": "Yf1SzYPLsjVz"
      },
      "source": [
        "dataset_train = pd.read_csv('/content/mn_drive/MyDrive/NGHIÊN CỨU KHOA HỌC/DATA/train.csv')\n",
        "dataset_test = pd.read_csv('/content/mn_drive/MyDrive/NGHIÊN CỨU KHOA HỌC/DATA/test.csv')"
      ],
      "execution_count": null,
      "outputs": []
    },
    {
      "cell_type": "code",
      "metadata": {
        "colab": {
          "base_uri": "https://localhost:8080/",
          "height": 402
        },
        "id": "8j1H5HXLtMlB",
        "outputId": "d243c1cb-d495-4163-da3a-2c928a392e2d"
      },
      "source": [
        "dataset_train = pd.read_csv('/content/mn_drive/MyDrive/NGHIÊN CỨU KHOA HỌC/DATA/train.csv')\n",
        "dataset_train"
      ],
      "execution_count": null,
      "outputs": [
        {
          "output_type": "execute_result",
          "data": {
            "text/html": [
              "<div>\n",
              "<style scoped>\n",
              "    .dataframe tbody tr th:only-of-type {\n",
              "        vertical-align: middle;\n",
              "    }\n",
              "\n",
              "    .dataframe tbody tr th {\n",
              "        vertical-align: top;\n",
              "    }\n",
              "\n",
              "    .dataframe thead th {\n",
              "        text-align: right;\n",
              "    }\n",
              "</style>\n",
              "<table border=\"1\" class=\"dataframe\">\n",
              "  <thead>\n",
              "    <tr style=\"text-align: right;\">\n",
              "      <th></th>\n",
              "      <th>comment</th>\n",
              "      <th>label</th>\n",
              "    </tr>\n",
              "  </thead>\n",
              "  <tbody>\n",
              "    <tr>\n",
              "      <th>0</th>\n",
              "      <td>Mua có mỗi Bingsu thập cẩm 45k mà mình f đợi h...</td>\n",
              "      <td>0</td>\n",
              "    </tr>\n",
              "    <tr>\n",
              "      <th>1</th>\n",
              "      <td>Thứ 6 nào ta cùng quẩy 💣 💣 💣\\r\\n Vuvuzela beer...</td>\n",
              "      <td>0</td>\n",
              "    </tr>\n",
              "    <tr>\n",
              "      <th>2</th>\n",
              "      <td>Mình đi với nhóm , tổng cộng 4 người ăn chỉ có...</td>\n",
              "      <td>0</td>\n",
              "    </tr>\n",
              "    <tr>\n",
              "      <th>3</th>\n",
              "      <td>nhân viên phục vụ không mấy tận tình , đồ ăn r...</td>\n",
              "      <td>0</td>\n",
              "    </tr>\n",
              "    <tr>\n",
              "      <th>4</th>\n",
              "      <td>Vào đây thì hết bàn , nhưng mình vẫn ngồi đợi ...</td>\n",
              "      <td>0</td>\n",
              "    </tr>\n",
              "    <tr>\n",
              "      <th>...</th>\n",
              "      <td>...</td>\n",
              "      <td>...</td>\n",
              "    </tr>\n",
              "    <tr>\n",
              "      <th>39995</th>\n",
              "      <td>Quán không gian nhỏ nhưng khá lịch sự , sạch s...</td>\n",
              "      <td>1</td>\n",
              "    </tr>\n",
              "    <tr>\n",
              "      <th>39996</th>\n",
              "      <td>đi ăn lần 2 : ) ) ) lần này rút kinh nghiệm ki...</td>\n",
              "      <td>1</td>\n",
              "    </tr>\n",
              "    <tr>\n",
              "      <th>39997</th>\n",
              "      <td>Mình ăn 2 món , mà quên tên mất rồi , toàn từ ...</td>\n",
              "      <td>1</td>\n",
              "    </tr>\n",
              "    <tr>\n",
              "      <th>39998</th>\n",
              "      <td>Trong ảnh là\\r\\n • 1 phần mì udon xào\\r\\n • 1 ...</td>\n",
              "      <td>1</td>\n",
              "    </tr>\n",
              "    <tr>\n",
              "      <th>39999</th>\n",
              "      <td>địa điểm : dễ tìm , mậu thân quẹo vào đường bờ...</td>\n",
              "      <td>1</td>\n",
              "    </tr>\n",
              "  </tbody>\n",
              "</table>\n",
              "<p>40000 rows × 2 columns</p>\n",
              "</div>"
            ],
            "text/plain": [
              "                                                 comment  label\n",
              "0      Mua có mỗi Bingsu thập cẩm 45k mà mình f đợi h...      0\n",
              "1      Thứ 6 nào ta cùng quẩy 💣 💣 💣\\r\\n Vuvuzela beer...      0\n",
              "2      Mình đi với nhóm , tổng cộng 4 người ăn chỉ có...      0\n",
              "3      nhân viên phục vụ không mấy tận tình , đồ ăn r...      0\n",
              "4      Vào đây thì hết bàn , nhưng mình vẫn ngồi đợi ...      0\n",
              "...                                                  ...    ...\n",
              "39995  Quán không gian nhỏ nhưng khá lịch sự , sạch s...      1\n",
              "39996  đi ăn lần 2 : ) ) ) lần này rút kinh nghiệm ki...      1\n",
              "39997  Mình ăn 2 món , mà quên tên mất rồi , toàn từ ...      1\n",
              "39998  Trong ảnh là\\r\\n • 1 phần mì udon xào\\r\\n • 1 ...      1\n",
              "39999  địa điểm : dễ tìm , mậu thân quẹo vào đường bờ...      1\n",
              "\n",
              "[40000 rows x 2 columns]"
            ]
          },
          "metadata": {
            "tags": []
          },
          "execution_count": 6
        }
      ]
    },
    {
      "cell_type": "code",
      "metadata": {
        "id": "qjNvv57n0aZX"
      },
      "source": [
        "def preprocessing(doc):\n",
        "    replace_list = {\n",
        "        'òa': 'oà', 'óa': 'oá', 'ỏa': 'oả', 'õa': 'oã', 'ọa': 'oạ', 'òe': 'oè', 'óe': 'oé','ỏe': 'oẻ',\n",
        "        'õe': 'oẽ', 'ọe': 'oẹ', 'ùy': 'uỳ', 'úy': 'uý', 'ủy': 'uỷ', 'ũy': 'uỹ','ụy': 'uỵ', 'uả': 'ủa',\n",
        "        'ả': 'ả', 'ố': 'ố', 'u´': 'ố','ỗ': 'ỗ', 'ồ': 'ồ', 'ổ': 'ổ', 'ấ': 'ấ', 'ẫ': 'ẫ', 'ẩ': 'ẩ',\n",
        "        'ầ': 'ầ', 'ỏ': 'ỏ', 'ề': 'ề','ễ': 'ễ', 'ắ': 'ắ', 'ủ': 'ủ', 'ế': 'ế', 'ở': 'ở', 'ỉ': 'ỉ',\n",
        "        'ẻ': 'ẻ', 'àk': u' à ','aˋ': 'à', 'iˋ': 'ì', 'ă´': 'ắ','ử': 'ử', 'e˜': 'ẽ', 'y˜': 'ỹ', 'a´': 'á',\n",
        "        #Quy các icon về 2 loại emoj: Tích cực hoặc tiêu cực\n",
        "        \"👹\": \"negative\", \"👻\": \"positive\", \"💃\": \"positive\",'🤙': ' positive ', '👍': ' positive ',\n",
        "        \"💄\": \"positive\", \"💎\": \"positive\", \"💩\": \"positive\",\"😕\": \"negative\", \"😱\": \"negative\", \"😸\": \"positive\",\n",
        "        \"😾\": \"negative\", \"🚫\": \"negative\",  \"🤬\": \"negative\",\"🧚\": \"positive\", \"🧡\": \"positive\",'🐶':' positive ',\n",
        "        '👎': ' negative ', '😣': ' negative ','✨': ' positive ', '❣': ' positive ','☀': ' positive ',\n",
        "        '♥': ' positive ', '🤩': ' positive ', 'like': ' positive ', '💌': ' positive ',\n",
        "        '🤣': ' positive ', '🖤': ' positive ', '🤤': ' positive ', ':(': ' negative ', '😢': ' negative ',\n",
        "        '❤': ' positive ', '😍': ' positive ', '😘': ' positive ', '😪': ' negative ', '😊': ' positive ',\n",
        "        '?': ' ? ', '😁': ' positive ', '💖': ' positive ', '😟': ' negative ', '😭': ' negative ',\n",
        "        '💯': ' positive ', '💗': ' positive ', '♡': ' positive ', '💜': ' positive ', '🤗': ' positive ',\n",
        "        '^^': ' positive ', '😨': ' negative ', '☺': ' positive ', '💋': ' positive ', '👌': ' positive ',\n",
        "        '😖': ' negative ', '😀': ' positive ', ':((': ' negative ', '😡': ' negative ', '😠': ' negative ',\n",
        "        '😒': ' negative ', '🙂': ' positive ', '😏': ' negative ', '😝': ' positive ', '😄': ' positive ',\n",
        "        '😙': ' positive ', '😤': ' negative ', '😎': ' positive ', '😆': ' positive ', '💚': ' positive ',\n",
        "        '✌': ' positive ', '💕': ' positive ', '😞': ' negative ', '😓': ' negative ', '️🆗️': ' positive ',\n",
        "        '😉': ' positive ', '😂': ' positive ', ':v': '  positive ', '=))': '  positive ', '😋': ' positive ',\n",
        "        '💓': ' positive ', '😐': ' negative ', ':3': ' positive ', '😫': ' negative ', '😥': ' negative ',\n",
        "        '😃': ' positive ', '😬': ' 😬 ', '😌': ' 😌 ', '💛': ' positive ', '🤝': ' positive ', '🎈': ' positive ',\n",
        "        '😗': ' positive ', '🤔': ' negative ', '😑': ' negative ', '🔥': ' negative ', '🙏': ' negative ',\n",
        "        '🆗': ' positive ', '😻': ' positive ', '💙': ' positive ', '💟': ' positive ',\n",
        "        '😚': ' positive ', '❌': ' negative ', '👏': ' positive ', ';)': ' positive ', '<3': ' positive ',\n",
        "        '🌝': ' positive ',  '🌷': ' positive ', '🌸': ' positive ', '🌺': ' positive ',\n",
        "        '🌼': ' positive ', '🍓': ' positive ', '🐅': ' positive ', '🐾': ' positive ', '👉': ' positive ',\n",
        "        '💐': ' positive ', '💞': ' positive ', '💥': ' positive ', '💪': ' positive ',\n",
        "        '💰': ' positive ',  '😇': ' positive ', '😛': ' positive ', '😜': ' positive ',\n",
        "        '🙃': ' positive ', '🤑': ' positive ', '🤪': ' positive ','☹': ' negative ',  '💀': ' negative ',\n",
        "        '😔': ' negative ', '😧': ' negative ', '😩': ' negative ', '😰': ' negative ', '😳': ' negative ',\n",
        "        '😵': ' negative ', '😶': ' negative ', '🙁': ' negative ',\n",
        "        ':))': '  positive ', ':)': ' positive ', 'ô kêi': ' ok ', 'okie': ' ok ', ' o kê ': ' ok ',\n",
        "        'okey': ' ok ', 'ôkê': ' ok ', 'oki': ' ok ', ' oke ':  ' ok ',' okay':' ok ','okê':' ok ',\n",
        "        ' tks ': u' cám ơn ', 'thks': u' cám ơn ', 'thanks': u' cám ơn ', 'ths': u' cám ơn ', 'thank': u' cám ơn ',\n",
        "        '⭐': 'star ', '*': 'star ', '🌟': 'star ', '🎉': u' positive ',\n",
        "        'kg ': u' không ','not': u' không ', u' kg ': u' không ', '\"k ': u' không ',' kh ':u' không ','kô':u' không ','hok':u' không ',' kp ': u' không phải ',u' kô ': u' không ', '\"ko ': u' không ', u' ko ': u' không ', u' k ': u' không ', 'khong': u' không ', u' hok ': u' không ',\n",
        "        'he he': ' positive ','hehe': ' positive ','hihi': ' positive ', 'haha': ' positive ', 'hjhj': ' positive ',\n",
        "        ' lol ': ' negative ',' cc ': ' negative ','cute': u' dễ thương ','huhu': ' negative ', ' vs ': u' với ', 'wa': ' qua ', 'wá': u' quá', 'j': u' gì ', '“': ' ',\n",
        "        ' sz ': u' cỡ ', 'size': u' cỡ ', u' đx ': u' được ', 'dk': u' được ', ' dc ': u' được ', 'đk': u' được ',\n",
        "        'đc': u' được ','authentic': u' chuẩn chính hãng ',u' aut ': u' chuẩn chính hãng ', u' auth ': u' chuẩn chính hãng ', 'thick': u' positive ', 'store': u' cửa hàng ',\n",
        "        'shop': u' cửa hàng ', 'sp': u' sản phẩm ', 'gud': u' tốt ','god': u' tốt ','wel done':' tốt ', 'good': u' tốt ', 'gút': u' tốt ',\n",
        "        'sấu': u' xấu ','gut': u' tốt ', u' tot ': u' tốt ', u' nice ': u' tốt ', 'perfect': 'rất tốt', 'bt': u' bình thường ',\n",
        "        'time': u' thời gian ', 'qá': u' quá ', u' ship ': u' giao hàng ', u' m ': u' mình ', u' mik ': u' mình ',\n",
        "        'ể': 'ể', 'product': 'sản phẩm', 'quality': 'chất lượng','chat':' chất ', 'excelent': 'hoàn hảo', 'bad': 'tệ','fresh': ' tươi ','sad': ' tệ ',\n",
        "        'date': u' hạn sử dụng ', 'hsd': u' hạn sử dụng ','quickly': u' nhanh ', 'quick': u' nhanh ','fast': u' nhanh ','delivery': u' giao hàng ',u' síp ': u' giao hàng ',\n",
        "        'beautiful': u' đẹp tuyệt vời ', u' tl ': u' trả lời ', u' r ': u' rồi ', u' shopE ': u' cửa hàng ',u' order ': u' đặt hàng ',\n",
        "        'chất lg': u' chất lượng ',u' sd ': u' sử dụng ',u' dt ': u' điện thoại ',u' nt ': u' nhắn tin ',u' tl ': u' trả lời ',u' sài ': u' xài ',u'bjo':u' bao giờ ',\n",
        "        'thik': u' thích ',u' sop ': u' cửa hàng ', ' fb ': ' facebook ', ' face ': ' facebook ', ' very ': u' rất ',u'quả ng ':u' quảng  ',\n",
        "         'dep': u' đẹp ',u' xau ': u' xấu ','delicious': u' ngon ', u'hàg': u' hàng ', u'qủa': u' quả ',\n",
        "        'iu': u' yêu ','fake': u' giả mạo ', 'trl': 'trả lời', '><': u' positive ',\n",
        "        ' por ': u' tệ ',' poor ': u' tệ ', 'ib':u' nhắn tin ', 'rep':u' trả lời ',u'fback':' feedback ','fedback':' feedback ',\n",
        "        'bik': u'biết', 'full': 'đầy', 'free':u'miễn phí', 'hôg':u'không','wán':u'quán', 'mìh':u'mình', 'thờng':u'thường', 'hk':u'không','nhưg':u'nhưng',\n",
        "        'đág':u'đáng', 'nóg':u'nóng', 'đườg':u'đường','uốg':u'uống','lạh':u'lạnh', 'zô':u'vô','nhìu':u'nhiều', 'cx':u'cũng','nchung':u'nói chung',\n",
        "        'comment':u'bình luận', 'bye':u'tạm biệt','khg':u'không', 'lìn':u'negative',\n",
        "        \n",
        "        }\n",
        "\n",
        "    doc = doc.lower()\n",
        "    # replace words\n",
        "    for k, v in replace_list.items():\n",
        "        doc = doc.replace(k, v)\n",
        "\n",
        "    # remove duplicate characters\n",
        "    doc = re.sub(r'([A-Z])\\1+', lambda m: m.group(1).lower(), doc, flags=re.IGNORECASE)\n",
        "\n",
        "    # remove number, special character\n",
        "    regex = \"[^a-z0-9A-ZÀÁÂÃÈÉÊÌÍÒÓÔÕÙÚĂĐĨŨƠàáâãèéêìíòóôõùúăđĩũơƯĂẠẢẤẦẨẪẬẮẰẲẴẶẸẺẼỀỀỂưăạảấầẩẫậắằẳẵặẹẻẽềếểỄỆỈỊỌỎỐỒỔỖỘỚỜỞỠỢỤỦỨỪễệỉịọỏốồổỗộớờởỡợụủứừỬỮỰỲỴÝỶỸửữựỳỵỷỹ]\"\n",
        "    doc = re.sub(regex, \" \", doc)\n",
        "    doc = ViTokenizer.tokenize(doc)\n",
        "    \n",
        "    return doc\n",
        "    "
      ],
      "execution_count": null,
      "outputs": []
    },
    {
      "cell_type": "code",
      "metadata": {
        "colab": {
          "base_uri": "https://localhost:8080/",
          "height": 223
        },
        "id": "zt2qvwbr2I1b",
        "outputId": "84d625fe-9b8a-46e0-ca71-31042eb82c3f"
      },
      "source": [
        "print(dataset_train.iloc[1, 0])\n",
        "preprocessing(dataset_train.iloc[1, 0])"
      ],
      "execution_count": null,
      "outputs": [
        {
          "output_type": "stream",
          "text": [
            "Thứ 6 nào ta cùng quẩy 💣 💣 💣\r\n",
            " Vuvuzela beer club chung hệ thống Gogi House , Daruma , Kichi kichi nên giá cũng chưa 10% VAT . Thanh toán trước 20g hằng ngày đc giảm 30% thức ăn . Tính ra đc giảm 20% . Cũng zui ! 😊 😊 😊\r\n",
            " Ngồi thư giãn cũng ok . Thức ăn cũng ổn . Có mấy món nguyên liệu bên ngoài hok bik chỗ nào bán nên vô đây ăn . Cơ mà gọi mấy món đó cũng ko có hàng 😂 😂 😂\r\n",
            " Cháo bồ câu hình chụp nguyên con bồ câu mà tìm hoài chỉ thấy phao câu không thấy đầu bồ câu . Hỏi e nv e chạy hỏi nhà bếp đc trả lời là 1 phần cháo đc tính toán 1 lượng thịt cố định theo gram chứ không phải nguyên con chị ơi . 😅 😅 😅\r\n",
            " Ps : Lần sau sẽ rủ trên 4 đứa đi quẩy để đc tặng 10 ly biaaaaaaaaaaaaaa mí đc 🍺 🍺 🍺 🍺 🍺 🍺 🍺 🍺 🍺 🍺\r\n",
            "\n"
          ],
          "name": "stdout"
        },
        {
          "output_type": "execute_result",
          "data": {
            "application/vnd.google.colaboratory.intrinsic+json": {
              "type": "string"
            },
            "text/plain": [
              "'thứ 6 nào ta cùng quẩy vuvuzela ber club chung hệ_thống gogi house daruma kichi kichi nên giá cũng chưa 10 vat thanh_toán trước 20g hằng ngày được giảm 30 thức_ăn tính ra được giảm 20 cũng zui positive positive positive ngồi thư giãn cũng ok thức_ăn cũng ổn có mấy món nguyên_liệu bên ngoài không biết chỗ nào bán nên vô đây ăn cơ_mà gọi mấy món đó cũng không có hàng positive positive positive cháo bồ_câu hình chụp nguyên con bồ_câu mà tìm hoài chỉ thấy phao_câu không thấy đầu bồ_câu hỏi e nv e chạy hỏi nhà_bếp được trả_lời là 1 phần cháo được tính_toán 1 lượng thịt cố_định theo gram chứ không phải nguyên con chị ơi ps lần sau sẽ rủ trên 4 đứa đi quẩy để được tặng 10 ly bia mí được'"
            ]
          },
          "metadata": {
            "tags": []
          },
          "execution_count": 8
        }
      ]
    },
    {
      "cell_type": "code",
      "metadata": {
        "colab": {
          "base_uri": "https://localhost:8080/",
          "height": 402
        },
        "id": "RiXcL8D8EZ0r",
        "outputId": "ccbbb317-814a-4cfd-cdcb-361370136631"
      },
      "source": [
        "dataset_train['comment'] = dataset_train['comment'].apply(preprocessing)\n",
        "dataset_test['comment'] = dataset_test['comment'].apply(preprocessing)\n",
        "dataset_train"
      ],
      "execution_count": null,
      "outputs": [
        {
          "output_type": "execute_result",
          "data": {
            "text/html": [
              "<div>\n",
              "<style scoped>\n",
              "    .dataframe tbody tr th:only-of-type {\n",
              "        vertical-align: middle;\n",
              "    }\n",
              "\n",
              "    .dataframe tbody tr th {\n",
              "        vertical-align: top;\n",
              "    }\n",
              "\n",
              "    .dataframe thead th {\n",
              "        text-align: right;\n",
              "    }\n",
              "</style>\n",
              "<table border=\"1\" class=\"dataframe\">\n",
              "  <thead>\n",
              "    <tr style=\"text-align: right;\">\n",
              "      <th></th>\n",
              "      <th>comment</th>\n",
              "      <th>label</th>\n",
              "    </tr>\n",
              "  </thead>\n",
              "  <tbody>\n",
              "    <tr>\n",
              "      <th>0</th>\n",
              "      <td>mua có mỗi bingsu thập_cẩm 45k mà mình f đợi h...</td>\n",
              "      <td>0</td>\n",
              "    </tr>\n",
              "    <tr>\n",
              "      <th>1</th>\n",
              "      <td>thứ 6 nào ta cùng quẩy vuvuzela ber club chung...</td>\n",
              "      <td>0</td>\n",
              "    </tr>\n",
              "    <tr>\n",
              "      <th>2</th>\n",
              "      <td>mình đi với nhóm tổng_cộng 4 người ăn chỉ có k...</td>\n",
              "      <td>0</td>\n",
              "    </tr>\n",
              "    <tr>\n",
              "      <th>3</th>\n",
              "      <td>nhân_viên phục_vụ không mấy tận_tình đồ ăn ra ...</td>\n",
              "      <td>0</td>\n",
              "    </tr>\n",
              "    <tr>\n",
              "      <th>4</th>\n",
              "      <td>vào đây thì hết bàn nhưng mình vẫn ngồi đợi bì...</td>\n",
              "      <td>0</td>\n",
              "    </tr>\n",
              "    <tr>\n",
              "      <th>...</th>\n",
              "      <td>...</td>\n",
              "      <td>...</td>\n",
              "    </tr>\n",
              "    <tr>\n",
              "      <th>39995</th>\n",
              "      <td>quán không_gian nhỏ nhưng khá lịch_sự sạch_sẽ ...</td>\n",
              "      <td>1</td>\n",
              "    </tr>\n",
              "    <tr>\n",
              "      <th>39996</th>\n",
              "      <td>đi ăn lần 2 lần này rút kinh_nghiệm k yêu đồ ă...</td>\n",
              "      <td>1</td>\n",
              "    </tr>\n",
              "    <tr>\n",
              "      <th>39997</th>\n",
              "      <td>mình ăn 2 món mà quên tên mất rồi toàn từ cá_h...</td>\n",
              "      <td>1</td>\n",
              "    </tr>\n",
              "    <tr>\n",
              "      <th>39998</th>\n",
              "      <td>trong ảnh là 1 phần mì udon xào 1 phần cuốn ki...</td>\n",
              "      <td>1</td>\n",
              "    </tr>\n",
              "    <tr>\n",
              "      <th>39999</th>\n",
              "      <td>địa_điểm dễ tìm mậu thân quẹo vào đường bờ hồ ...</td>\n",
              "      <td>1</td>\n",
              "    </tr>\n",
              "  </tbody>\n",
              "</table>\n",
              "<p>40000 rows × 2 columns</p>\n",
              "</div>"
            ],
            "text/plain": [
              "                                                 comment  label\n",
              "0      mua có mỗi bingsu thập_cẩm 45k mà mình f đợi h...      0\n",
              "1      thứ 6 nào ta cùng quẩy vuvuzela ber club chung...      0\n",
              "2      mình đi với nhóm tổng_cộng 4 người ăn chỉ có k...      0\n",
              "3      nhân_viên phục_vụ không mấy tận_tình đồ ăn ra ...      0\n",
              "4      vào đây thì hết bàn nhưng mình vẫn ngồi đợi bì...      0\n",
              "...                                                  ...    ...\n",
              "39995  quán không_gian nhỏ nhưng khá lịch_sự sạch_sẽ ...      1\n",
              "39996  đi ăn lần 2 lần này rút kinh_nghiệm k yêu đồ ă...      1\n",
              "39997  mình ăn 2 món mà quên tên mất rồi toàn từ cá_h...      1\n",
              "39998  trong ảnh là 1 phần mì udon xào 1 phần cuốn ki...      1\n",
              "39999  địa_điểm dễ tìm mậu thân quẹo vào đường bờ hồ ...      1\n",
              "\n",
              "[40000 rows x 2 columns]"
            ]
          },
          "metadata": {
            "tags": []
          },
          "execution_count": 9
        }
      ]
    },
    {
      "cell_type": "code",
      "metadata": {
        "id": "2nOy6w8lGVoA"
      },
      "source": [
        "dataset_train.to_csv(\"/content/mn_drive/MyDrive/NGHIÊN CỨU KHOA HỌC/DATA/train_processed.csv\", index=False)\n",
        "dataset_test.to_csv(\"/content/mn_drive/MyDrive/NGHIÊN CỨU KHOA HỌC/DATA/test_processed.csv\", index=False)"
      ],
      "execution_count": null,
      "outputs": []
    },
    {
      "cell_type": "code",
      "metadata": {
        "id": "2-n7krRELx0f"
      },
      "source": [
        "from sklearn.feature_extraction.text import CountVectorizer, TfidfTransformer\n",
        "from sklearn.pipeline import Pipeline\n",
        "from sklearn.ensemble import RandomForestClassifier\n",
        "from sklearn.model_selection import GridSearchCV, train_test_split\n",
        "from sklearn.metrics import classification_report\n",
        "from sklearn.svm import LinearSVC\n",
        "from sklearn.naive_bayes import MultinomialNB\n",
        "from sklearn.tree import DecisionTreeClassifier\n",
        "from sklearn.model_selection import train_test_split"
      ],
      "execution_count": null,
      "outputs": []
    },
    {
      "cell_type": "code",
      "metadata": {
        "id": "74DVZIIJYgmm",
        "colab": {
          "base_uri": "https://localhost:8080/"
        },
        "outputId": "58ce4d00-dcf0-45ea-85f8-42c088d752db"
      },
      "source": [
        "from google.colab import drive\n",
        "drive.mount('/content/drive')"
      ],
      "execution_count": null,
      "outputs": [
        {
          "output_type": "stream",
          "text": [
            "Mounted at /content/drive\n"
          ],
          "name": "stdout"
        }
      ]
    },
    {
      "cell_type": "markdown",
      "metadata": {
        "id": "D-8Myj4jYPjc"
      },
      "source": [
        "**Load data và chia tập TRAIN và tập TEST**"
      ]
    },
    {
      "cell_type": "code",
      "metadata": {
        "colab": {
          "base_uri": "https://localhost:8080/"
        },
        "id": "Jyt7hlreMPwu",
        "outputId": "b7f2a2d0-0a8b-4f6e-ccfc-1c40de7a0117"
      },
      "source": [
        "import pandas as pd\n",
        "import sklearn\n",
        "dataset_train = pd.read_csv(\"/content/drive/MyDrive/NGHIÊN CỨU KHOA HỌC/DATA/train_processed.csv\")\n",
        "dataset_test = pd.read_csv(\"/content/drive/MyDrive/NGHIÊN CỨU KHOA HỌC/DATA/test_processed.csv\")\n",
        "\n",
        "X, Y = dataset_train['comment'], dataset_train['label']\n",
        "X_test, Y_test = dataset_test['comment'], dataset_test['label']\n",
        "print(X.shape)\n",
        "print(X_test.shape)"
      ],
      "execution_count": null,
      "outputs": [
        {
          "output_type": "stream",
          "text": [
            "(40000,)\n",
            "(10000,)\n"
          ],
          "name": "stdout"
        }
      ]
    },
    {
      "cell_type": "code",
      "metadata": {
        "colab": {
          "base_uri": "https://localhost:8080/"
        },
        "id": "piHWXcnzNLlS",
        "outputId": "c9971da7-005b-4960-95f7-48d6f77f2576"
      },
      "source": [
        "df_train = pd.read_csv('/content/drive/MyDrive/NGHIÊN CỨU KHOA HỌC/DATA/train_processed.csv')\n",
        "df_test = pd.read_csv('/content/drive/MyDrive/NGHIÊN CỨU KHOA HỌC/DATA/test_processed.csv')\n",
        "X_train = df_train['comment']\n",
        "y_train = df_train['label'].values\n",
        "X_test = df_test['comment']\n",
        "y_test = df_test['label'].values\n",
        "print('Training samples:',X_train.shape)\n",
        "print(y_train.shape)\n",
        "print('Testing samples:',X_test.shape)\n",
        "print(y_test.shape)\n",
        "data = X_train.tolist()\n",
        "data.extend(X_test.tolist())\n",
        "print(len(data))"
      ],
      "execution_count": null,
      "outputs": [
        {
          "output_type": "stream",
          "text": [
            "Training samples: (40000,)\n",
            "(40000,)\n",
            "Testing samples: (10000,)\n",
            "(10000,)\n",
            "50000\n"
          ],
          "name": "stdout"
        }
      ]
    },
    {
      "cell_type": "markdown",
      "metadata": {
        "id": "aAnrRFUfX-kK"
      },
      "source": [
        "**Trích xuất đặc trưng bằng BOW và phân lớp RANDOM FOREST**"
      ]
    },
    {
      "cell_type": "code",
      "metadata": {
        "colab": {
          "base_uri": "https://localhost:8080/"
        },
        "id": "rQdnRilSxeud",
        "outputId": "9f315952-ec6a-4904-a69f-50dd12df464e"
      },
      "source": [
        "#Bow - Random Forest : base line\n",
        "count_vec = CountVectorizer()\n",
        "pipeline = Pipeline(steps=[('vec', CountVectorizer()), ('clf', RandomForestClassifier())], verbose=True)\n",
        "pipeline.fit(X_train, y_train)\n",
        "Y_pred = pipeline.predict(X_test)\n",
        "print(classification_report(y_test, Y_pred, digits=4))"
      ],
      "execution_count": null,
      "outputs": [
        {
          "output_type": "stream",
          "text": [
            "[Pipeline] ............... (step 1 of 2) Processing vec, total=   2.9s\n",
            "[Pipeline] ............... (step 2 of 2) Processing clf, total= 2.0min\n",
            "              precision    recall  f1-score   support\n",
            "\n",
            "           0     0.8587    0.8810    0.8697      5000\n",
            "           1     0.8778    0.8550    0.8663      5000\n",
            "\n",
            "    accuracy                         0.8680     10000\n",
            "   macro avg     0.8682    0.8680    0.8680     10000\n",
            "weighted avg     0.8682    0.8680    0.8680     10000\n",
            "\n"
          ],
          "name": "stdout"
        }
      ]
    },
    {
      "cell_type": "markdown",
      "metadata": {
        "id": "BnjpjtOFXxLh"
      },
      "source": [
        "**SAVE  model bằng Pickle**"
      ]
    },
    {
      "cell_type": "code",
      "metadata": {
        "colab": {
          "base_uri": "https://localhost:8080/"
        },
        "id": "s5N7MeJgXvTT",
        "outputId": "b0014f08-dff7-4d4f-e2f0-87fb2ca03643"
      },
      "source": [
        "import pickle\n",
        "from sklearn import metrics \n",
        "filename = '/content/drive/MyDrive/NGHIÊN CỨU KHOA HỌC/DATA/bow_randomforest.sav'\n",
        "pickle.dump(pipeline, open(filename, 'wb'))\n",
        "loaded_model = pickle.load(open(filename, 'rb'))\n",
        "# y_pred = loaded_model.predict(X_test_new)\n",
        "print(\"Accuracy: \", 100*metrics.accuracy_score(y_test, Y_pred))"
      ],
      "execution_count": null,
      "outputs": [
        {
          "output_type": "stream",
          "text": [
            "Accuracy:  86.8\n"
          ],
          "name": "stdout"
        }
      ]
    },
    {
      "cell_type": "markdown",
      "metadata": {
        "id": "9AjbLgKihYAQ"
      },
      "source": [
        "**Trích xuất đặc trưng bằng TFIDF và phân lớp RANDOM FOREST**\n",
        "\n"
      ]
    },
    {
      "cell_type": "code",
      "metadata": {
        "colab": {
          "base_uri": "https://localhost:8080/"
        },
        "id": "nm_raGEy_Sp8",
        "outputId": "12a3b5c6-f506-4f75-9b68-ba7cf4a023f4"
      },
      "source": [
        "#TFIDF - RandomForest : Base line\n",
        "\n",
        "# max_df: means \"ignore terms that appear in more than 50% of the documents\".\n",
        "# min_df:  means \"ignore terms that appear in less than 5 documents\".\n",
        "pipeline = Pipeline(steps=[('vec', CountVectorizer()), \n",
        "                           ('tfidf', TfidfTransformer()),\n",
        "                           ('clf', RandomForestClassifier())],\n",
        "                             verbose=True\n",
        "                    )\n",
        "\n",
        "pipeline.fit(X_train, y_train)\n",
        "Y_pred = pipeline.predict(X_test)\n",
        "print(classification_report(y_test, Y_pred, digits=4))"
      ],
      "execution_count": null,
      "outputs": [
        {
          "output_type": "stream",
          "text": [
            "[Pipeline] ............... (step 1 of 3) Processing vec, total=   2.6s\n",
            "[Pipeline] ............. (step 2 of 3) Processing tfidf, total=   0.2s\n",
            "[Pipeline] ............... (step 3 of 3) Processing clf, total= 1.5min\n",
            "              precision    recall  f1-score   support\n",
            "\n",
            "           0     0.8625    0.8720    0.8672      5000\n",
            "           1     0.8706    0.8610    0.8658      5000\n",
            "\n",
            "    accuracy                         0.8665     10000\n",
            "   macro avg     0.8665    0.8665    0.8665     10000\n",
            "weighted avg     0.8665    0.8665    0.8665     10000\n",
            "\n"
          ],
          "name": "stdout"
        }
      ]
    },
    {
      "cell_type": "markdown",
      "metadata": {
        "id": "8YubLxo5jF40"
      },
      "source": [
        "**Save model bằng PICKLE**"
      ]
    },
    {
      "cell_type": "code",
      "metadata": {
        "colab": {
          "base_uri": "https://localhost:8080/"
        },
        "id": "3PxdpSnEjEp4",
        "outputId": "75d16611-f3c7-4143-b948-cd3dfa33da4d"
      },
      "source": [
        "filename = '/content/mn_drive/MyDrive/NGHIÊN CỨU KHOA HỌC/DATA/tfidf_randomforest.sav'\n",
        "pickle.dump(pipeline, open(filename, 'wb'))\n",
        "loaded_model = pickle.load(open(filename, 'rb'))\n",
        "# y_pred = loaded_model.predict(X_test_new)\n",
        "print(\"Accuracy: \", 100*metrics.accuracy_score(y_test, Y_pred))"
      ],
      "execution_count": null,
      "outputs": [
        {
          "output_type": "stream",
          "text": [
            "Accuracy:  86.65\n"
          ],
          "name": "stdout"
        }
      ]
    },
    {
      "cell_type": "markdown",
      "metadata": {
        "id": "b1wcDnG5lEg8"
      },
      "source": [
        "**FINE-TURNING** tinh chỉnh"
      ]
    },
    {
      "cell_type": "markdown",
      "metadata": {
        "id": "txAqjS-DlSSu"
      },
      "source": [
        "**BOW - Random Forest - Optimal**"
      ]
    },
    {
      "cell_type": "code",
      "metadata": {
        "colab": {
          "base_uri": "https://localhost:8080/"
        },
        "id": "tYkbBTgzBp0Y",
        "outputId": "b8746ca7-cbd3-43de-b888-c2a81830e407"
      },
      "source": [
        "pipeline = Pipeline(steps=[('vec', CountVectorizer(ngram_range=(1,5),stop_words=None,max_df=0.5, min_df=5, )),\n",
        "                           ('clf', RandomForestClassifier())], verbose=True)\n",
        "pipeline.fit(X_train, y_train)\n",
        "Y_pred = pipeline.predict(X_test)\n",
        "print(classification_report(y_test, Y_pred, digits=4))"
      ],
      "execution_count": null,
      "outputs": [
        {
          "output_type": "stream",
          "text": [
            "[Pipeline] ............... (step 1 of 2) Processing vec, total= 1.2min\n",
            "[Pipeline] ............... (step 2 of 2) Processing clf, total= 3.8min\n",
            "              precision    recall  f1-score   support\n",
            "\n",
            "           0     0.8826    0.8750    0.8788      5000\n",
            "           1     0.8761    0.8836    0.8798      5000\n",
            "\n",
            "    accuracy                         0.8793     10000\n",
            "   macro avg     0.8793    0.8793    0.8793     10000\n",
            "weighted avg     0.8793    0.8793    0.8793     10000\n",
            "\n"
          ],
          "name": "stdout"
        }
      ]
    },
    {
      "cell_type": "markdown",
      "metadata": {
        "id": "I5e1FlYtljx_"
      },
      "source": [
        "**Save model bằng PICKLE**"
      ]
    },
    {
      "cell_type": "code",
      "metadata": {
        "colab": {
          "base_uri": "https://localhost:8080/"
        },
        "id": "tduj7_YolimS",
        "outputId": "ed9489a5-8b9e-4536-93e7-cbd17decf38b"
      },
      "source": [
        "filename = '/content/mn_drive/MyDrive/NGHIÊN CỨU KHOA HỌC/DATA/bow_randomforest_optimal.sav'\n",
        "pickle.dump(pipeline, open(filename, 'wb'))\n",
        "loaded_model = pickle.load(open(filename, 'rb'))\n",
        "# y_pred = loaded_model.predict(X_test_new)\n",
        "print(\"Accuracy: \", 100*metrics.accuracy_score(y_test, Y_pred))"
      ],
      "execution_count": null,
      "outputs": [
        {
          "output_type": "stream",
          "text": [
            "Accuracy:  87.92999999999999\n"
          ],
          "name": "stdout"
        }
      ]
    },
    {
      "cell_type": "markdown",
      "metadata": {
        "id": "CfL6KEeWmth2"
      },
      "source": [
        "**TFIDF - Random Forest - Optimal**"
      ]
    },
    {
      "cell_type": "code",
      "metadata": {
        "colab": {
          "base_uri": "https://localhost:8080/"
        },
        "id": "XoR3pGF2BrB0",
        "outputId": "5bed2915-243f-4f8b-9401-e23375879f65"
      },
      "source": [
        "pipeline = Pipeline(steps=[('vec', CountVectorizer(ngram_range=(1,5),stop_words=None,max_df=0.5, min_df=5, )), \n",
        "                           ('tfidf', TfidfTransformer(use_idf=True, sublinear_tf = True,norm='l2',smooth_idf=True)),\n",
        "                           ('clf', RandomForestClassifier(n_estimators=150))],\n",
        "                             verbose=True\n",
        "                    )\n",
        "\n",
        "pipeline.fit(X_train, y_train)\n",
        "Y_pred = pipeline.predict(X_test)\n",
        "print(classification_report(y_test, Y_pred, digits=4))"
      ],
      "execution_count": null,
      "outputs": [
        {
          "output_type": "stream",
          "text": [
            "[Pipeline] ............... (step 1 of 3) Processing vec, total= 1.3min\n",
            "[Pipeline] ............. (step 2 of 3) Processing tfidf, total=   0.5s\n",
            "[Pipeline] ............... (step 3 of 3) Processing clf, total= 4.7min\n",
            "              precision    recall  f1-score   support\n",
            "\n",
            "           0     0.8904    0.8742    0.8822      5000\n",
            "           1     0.8764    0.8924    0.8844      5000\n",
            "\n",
            "    accuracy                         0.8833     10000\n",
            "   macro avg     0.8834    0.8833    0.8833     10000\n",
            "weighted avg     0.8834    0.8833    0.8833     10000\n",
            "\n"
          ],
          "name": "stdout"
        }
      ]
    },
    {
      "cell_type": "markdown",
      "metadata": {
        "id": "yo0agIfPn6F8"
      },
      "source": [
        "**Save model bằng PICKLE**"
      ]
    },
    {
      "cell_type": "code",
      "metadata": {
        "colab": {
          "base_uri": "https://localhost:8080/"
        },
        "id": "tW7dzaZhn-d-",
        "outputId": "48203cc0-4476-48a2-801d-f3e56b485010"
      },
      "source": [
        "filename = '/content/mn_drive/MyDrive/NGHIÊN CỨU KHOA HỌC/DATA/tfidf_randomforest_optimal.sav'\n",
        "pickle.dump(pipeline, open(filename, 'wb'))\n",
        "loaded_model = pickle.load(open(filename, 'rb'))\n",
        "# y_pred = loaded_model.predict(X_test_new)\n",
        "print(\"Accuracy: \", 100*metrics.accuracy_score(y_test, Y_pred))"
      ],
      "execution_count": null,
      "outputs": [
        {
          "output_type": "stream",
          "text": [
            "Accuracy:  88.33\n"
          ],
          "name": "stdout"
        }
      ]
    },
    {
      "cell_type": "markdown",
      "metadata": {
        "id": "VXRX97-spGcQ"
      },
      "source": [
        "**RESULT VISUALIZE** Biểu diễn kết quả model"
      ]
    },
    {
      "cell_type": "code",
      "metadata": {
        "colab": {
          "base_uri": "https://localhost:8080/",
          "height": 427
        },
        "id": "6n6koQDZpFSO",
        "outputId": "fabec40e-f414-4885-b3cb-1998ea01ea65"
      },
      "source": [
        "import matplotlib.pyplot as plt\n",
        "import numpy as np\n",
        "import matplotlib\n",
        "\n",
        "labels = ['Random Forest', 'Random Forest Optimal','Ensemble']\n",
        "bow = [ 86.46, 87.93]\n",
        "tfidf = [86.65, 88.33]\n",
        "x = np.arange(len(labels))[:-1]  # the label locations\n",
        "width = 0.2  # the width of the bars\n",
        "\n",
        "fig, ax = plt.subplots(figsize=(8,5.8))\n",
        "rects1 = ax.bar(x - width/2, bow, width, label='BOW')\n",
        "rects2 = ax.bar(x + width/2, tfidf, width, label='TFIDF')\n",
        "# recs3  = ax.bar(x[-1] +1, 90.58, width)\n",
        "# Add some text for labels, title and custom x-axis tick labels, etc.\n",
        "ax.set_ylabel('Độ chính xác')\n",
        "ax.set_title('Biểu đồ biểu diễn kết quả các mô hình cùng hai bộ trích xuất đặc trưng')\n",
        "ax.set_xticks(x)\n",
        "ax.set_xticklabels(labels)\n",
        "ax.legend()\n",
        "\n",
        "\n",
        "def autolabel(rects):\n",
        "    \"\"\"Attach a text label above each bar in *rects*, displaying its height.\"\"\"\n",
        "    for rect in rects:\n",
        "        height = rect.get_height()\n",
        "        ax.annotate('{}'.format(height),\n",
        "                    xy=(rect.get_x() + rect.get_width() / 2, height),\n",
        "                    xytext=(0, 3),  # 3 points vertical offset\n",
        "                    textcoords=\"offset points\",\n",
        "                    ha='center', va='bottom')\n",
        "\n",
        "autolabel(rects1)\n",
        "autolabel(rects2)\n",
        "fig.tight_layout()\n",
        "plt.ylim(0,120)\n",
        "plt.show()"
      ],
      "execution_count": null,
      "outputs": [
        {
          "output_type": "display_data",
          "data": {
            "image/png": "[encoded data removed]",
            "text/plain": [
              "<Figure size 576x417.6 with 1 Axes>"
            ]
          },
          "metadata": {
            "tags": [],
            "needs_background": "light"
          }
        }
      ]
    },
    {
      "cell_type": "code",
      "metadata": {
        "colab": {
          "background_save": true,
          "base_uri": "https://localhost:8080/"
        },
        "id": "ENqcUZuRDuPz",
        "outputId": "b192a652-95be-4a6d-8e75-1d7cd2b72c8d"
      },
      "source": [
        "#  Ensemble Stacking: LinearSVC, RandomForest\n",
        "from sklearn.ensemble import VotingClassifier, StackingClassifier\n",
        "from sklearn.linear_model import LogisticRegression\n",
        "estimators=[\n",
        "                              ('nv', MultinomialNB(alpha=0.1)), \n",
        "                              ('rfc', RandomForestClassifier(n_estimators=300)),\n",
        "                              ('svc',LinearSVC(C=1, verbose=True))\n",
        "                              ]\n",
        "\n",
        "clf = StackingClassifier(\n",
        "    estimators=estimators, final_estimator=LogisticRegression(), stack_method='predict', verbose=True, n_jobs=-1\n",
        ")\n",
        "\n",
        "\n",
        "pipeline = Pipeline(steps=[('vec', CountVectorizer(ngram_range=(1,5),stop_words=None, min_df=5)), \n",
        "                           ('tfidf', TfidfTransformer(use_idf=True, sublinear_tf = True,norm='l2',smooth_idf=True)),\n",
        "                        ('clf', clf)],\n",
        "                             verbose=True\n",
        "                    )\n",
        "\n",
        "\n",
        "\n",
        "pipeline.fit(X, Y)\n",
        "Y_pred = pipeline.predict(X_test)\n",
        "print(classification_report(Y_test, Y_pred, digits=6))"
      ],
      "execution_count": null,
      "outputs": [
        {
          "output_type": "stream",
          "text": [
            "[Pipeline] ............... (step 1 of 3) Processing vec, total= 1.2min\n",
            "[Pipeline] ............. (step 2 of 3) Processing tfidf, total=   0.6s\n",
            "[Pipeline] ............... (step 3 of 3) Processing clf, total=36.5min\n",
            "              precision    recall  f1-score   support\n",
            "\n",
            "           0   0.921622  0.886600  0.903772      5000\n",
            "           1   0.890751  0.924600  0.907360      5000\n",
            "\n",
            "    accuracy                       0.905600     10000\n",
            "   macro avg   0.906187  0.905600  0.905566     10000\n",
            "weighted avg   0.906187  0.905600  0.905566     10000\n",
            "\n"
          ],
          "name": "stdout"
        }
      ]
    },
    {
      "cell_type": "code",
      "metadata": {
        "colab": {
          "base_uri": "https://localhost:8080/",
          "height": 427
        },
        "id": "Zq3hafaLw7-M",
        "outputId": "dd6f664b-5966-4802-fbd1-9b096a331f34"
      },
      "source": [
        "import matplotlib.pyplot as plt\n",
        "import numpy as np\n",
        "import matplotlib\n",
        "\n",
        "labels = ['Naive', 'Decision Tree','Ensemble']\n",
        "bow = [ 84.5, 75.87]\n",
        "tfidf = [89.35, 78.82]\n",
        "x = np.arange(len(labels))[:-1]  # the label locations\n",
        "width = 0.2  # the width of the bars\n",
        "\n",
        "fig, ax = plt.subplots(figsize=(8,5.8))\n",
        "rects1 = ax.bar(x - width/2, bow, width, label='Bow')\n",
        "rects2 = ax.bar(x + width/2, tfidf, width, label='TFIDF')\n",
        "\n",
        "# recs3  = ax.bar(x[-1] +1, 90.58, width)\n",
        "# Add some text for labels, title and custom x-axis tick labels, etc.\n",
        "ax.set_ylabel('Độ chính xác')\n",
        "ax.set_title('Biểu đồ so sánh các mô hình cùng hai bộ trích xuất đặc trưng')\n",
        "ax.set_xticks(x)\n",
        "ax.set_xticklabels(labels)\n",
        "ax.legend()\n",
        "\n",
        "\n",
        "def autolabel(rects):\n",
        "    \"\"\"Attach a text label above each bar in *rects*, displaying its height.\"\"\"\n",
        "    for rect in rects:\n",
        "        height = rect.get_height()\n",
        "        ax.annotate('{}'.format(height),\n",
        "                    xy=(rect.get_x() + rect.get_width() / 2, height),\n",
        "                    xytext=(0, 3),  # 3 points vertical offset\n",
        "                    textcoords=\"offset points\",\n",
        "                    ha='center', va='bottom')\n",
        "\n",
        "\n",
        "autolabel(rects1)\n",
        "autolabel(rects2)\n",
        "\n",
        "fig.tight_layout()\n",
        "plt.ylim(0,100)\n",
        "plt.show()"
      ],
      "execution_count": null,
      "outputs": [
        {
          "output_type": "display_data",
          "data": {
            "image/png": "[encoded data removed]",
            "text/plain": [
              "<Figure size 576x417.6 with 1 Axes>"
            ]
          },
          "metadata": {
            "tags": [],
            "needs_background": "light"
          }
        }
      ]
    }
  ]
}